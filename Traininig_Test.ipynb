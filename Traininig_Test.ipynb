{
 "cells": [
  {
   "cell_type": "code",
   "execution_count": 1,
   "id": "ecf6084a",
   "metadata": {},
   "outputs": [],
   "source": [
    "import os\n",
    "\n",
    "import numpy as np\n",
    "import torch\n",
    "\n",
    "from src.train import train_with_embeddings\n",
    "from src.utils import cross_entropy\n",
    "\n",
    "%load_ext autoreload\n",
    "%autoreload 2"
   ]
  },
  {
   "cell_type": "markdown",
   "id": "ed0fa614",
   "metadata": {},
   "source": [
    "# Training"
   ]
  },
  {
   "cell_type": "code",
   "execution_count": 2,
   "id": "39651c24",
   "metadata": {},
   "outputs": [],
   "source": [
    "data_path = 'data/train/nsfw_trainset'\n",
    "x_drawings = np.load(os.path.join(data_path, 'drawings', 'img_emb', 'img_emb_0.npy'))\n",
    "x_hentai = np.load(os.path.join(data_path, 'hentai', 'img_emb', 'img_emb_0.npy'))\n",
    "x_netural = np.load(os.path.join(data_path, 'neutral', 'img_emb', 'img_emb_0.npy'))\n",
    "x_porn = np.load(os.path.join(data_path, 'porn', 'img_emb', 'img_emb_0.npy'))\n",
    "x_sexy = np.load(os.path.join(data_path, 'sexy', 'img_emb', 'img_emb_0.npy'))"
   ]
  },
  {
   "cell_type": "code",
   "execution_count": 3,
   "id": "f99c638b",
   "metadata": {},
   "outputs": [
    {
     "data": {
      "text/plain": [
       "(41370, 30367, 64491, 70681, 35158)"
      ]
     },
     "execution_count": 3,
     "metadata": {},
     "output_type": "execute_result"
    }
   ],
   "source": [
    "len(x_drawings), len(x_hentai), len(x_netural), len(x_porn), len(x_sexy)"
   ]
  },
  {
   "cell_type": "code",
   "execution_count": 4,
   "id": "2ebda29f",
   "metadata": {},
   "outputs": [],
   "source": [
    "y = np.concatenate(\n",
    "        (np.zeros((len(x_drawings) + len(x_netural), 1)), \n",
    "         np.ones((len(x_hentai) + len(x_porn) + len(x_sexy), 1))), axis=0)\n",
    "X = np.concatenate((x_drawings, x_netural, x_hentai, x_porn, x_sexy), axis=0)"
   ]
  },
  {
   "cell_type": "code",
   "execution_count": 5,
   "id": "50832c74",
   "metadata": {
    "scrolled": false
   },
   "outputs": [
    {
     "name": "stderr",
     "output_type": "stream",
     "text": [
      "100%|████████████████████████████████████████████████████████████████████████████████████████████████████████████████████████| 757/757 [00:01<00:00, 454.87it/s]\n"
     ]
    },
    {
     "name": "stdout",
     "output_type": "stream",
     "text": [
      "Epoch 1 | Train Loss 0.327259197476833 | Val Loss 0.08895397911730565\n"
     ]
    },
    {
     "name": "stderr",
     "output_type": "stream",
     "text": [
      "100%|████████████████████████████████████████████████████████████████████████████████████████████████████████████████████████| 757/757 [00:01<00:00, 517.51it/s]\n"
     ]
    },
    {
     "name": "stdout",
     "output_type": "stream",
     "text": [
      "Epoch 2 | Train Loss 0.08433198034418858 | Val Loss 0.08446082378688612\n"
     ]
    },
    {
     "name": "stderr",
     "output_type": "stream",
     "text": [
      "100%|████████████████████████████████████████████████████████████████████████████████████████████████████████████████████████| 757/757 [00:01<00:00, 498.21it/s]\n"
     ]
    },
    {
     "name": "stdout",
     "output_type": "stream",
     "text": [
      "Epoch 3 | Train Loss 0.08179516677684402 | Val Loss 0.08403973024534551\n"
     ]
    },
    {
     "name": "stderr",
     "output_type": "stream",
     "text": [
      "100%|████████████████████████████████████████████████████████████████████████████████████████████████████████████████████████| 757/757 [00:01<00:00, 497.35it/s]\n"
     ]
    },
    {
     "name": "stdout",
     "output_type": "stream",
     "text": [
      "Epoch 4 | Train Loss 0.0815100309708435 | Val Loss 0.0839939782297925\n"
     ]
    },
    {
     "name": "stderr",
     "output_type": "stream",
     "text": [
      "100%|████████████████████████████████████████████████████████████████████████████████████████████████████████████████████████| 757/757 [00:01<00:00, 499.08it/s]\n"
     ]
    },
    {
     "name": "stdout",
     "output_type": "stream",
     "text": [
      "Epoch 5 | Train Loss 0.08148453900863661 | Val Loss 0.08399243546943916\n"
     ]
    }
   ],
   "source": [
    "model = train_with_embeddings(X, y, 'ViT-L-14')"
   ]
  },
  {
   "cell_type": "markdown",
   "id": "fa85c215",
   "metadata": {},
   "source": [
    "# Testing "
   ]
  },
  {
   "cell_type": "code",
   "execution_count": 6,
   "id": "94976766",
   "metadata": {},
   "outputs": [],
   "source": [
    "data_path = 'data/test/nsfw_testset'\n",
    "x_drawings = np.load(os.path.join(data_path, 'drawings-test', 'img_emb', 'img_emb_0.npy'))\n",
    "x_hentai = np.load(os.path.join(data_path, 'hentai-test', 'img_emb', 'img_emb_0.npy'))\n",
    "x_netural = np.load(os.path.join(data_path, 'neutral-test', 'img_emb', 'img_emb_0.npy'))\n",
    "x_porn = np.load(os.path.join(data_path, 'porn-test', 'img_emb', 'img_emb_0.npy'))\n",
    "x_sexy = np.load(os.path.join(data_path, 'sexy-test', 'img_emb', 'img_emb_0.npy'))"
   ]
  },
  {
   "cell_type": "code",
   "execution_count": 7,
   "id": "c61ce603",
   "metadata": {},
   "outputs": [
    {
     "data": {
      "text/plain": [
       "(853, 126, 766, 760, 694)"
      ]
     },
     "execution_count": 7,
     "metadata": {},
     "output_type": "execute_result"
    }
   ],
   "source": [
    "x_drawings.shape[0], x_hentai.shape[0], x_netural.shape[0], x_porn.shape[0], x_sexy.shape[0]"
   ]
  },
  {
   "cell_type": "code",
   "execution_count": 8,
   "id": "0e16a790",
   "metadata": {},
   "outputs": [],
   "source": [
    "y = np.concatenate(\n",
    "        (np.zeros((len(x_drawings) + len(x_netural) , 1)), \n",
    "         np.ones((len(x_hentai) + len(x_porn) + len(x_sexy), 1))), axis=0)\n",
    "X = np.concatenate((x_drawings, x_netural, x_hentai, x_porn, x_sexy), axis=0)"
   ]
  },
  {
   "cell_type": "code",
   "execution_count": 9,
   "id": "b4ef9ff9",
   "metadata": {},
   "outputs": [],
   "source": [
    "X = torch.tensor(X, dtype=torch.float)\n",
    "X = torch.nn.functional.normalize(X)\n",
    "y = torch.tensor(y, dtype=torch.float).cuda()"
   ]
  },
  {
   "cell_type": "markdown",
   "id": "dde085f8",
   "metadata": {},
   "source": [
    "## Load and Test Trained MLP Model"
   ]
  },
  {
   "cell_type": "code",
   "execution_count": 10,
   "id": "f087a884",
   "metadata": {},
   "outputs": [
    {
     "data": {
      "text/plain": [
       "tensor(0.1328, device='cuda:0')"
      ]
     },
     "execution_count": 10,
     "metadata": {},
     "output_type": "execute_result"
    }
   ],
   "source": [
    "model.eval()\n",
    "with torch.no_grad():\n",
    "    y_p = model(X.cuda())\n",
    "cross_entropy(y, y_p)"
   ]
  },
  {
   "cell_type": "markdown",
   "id": "06de7185",
   "metadata": {},
   "source": [
    "## Load and Test Provided MLP Model"
   ]
  },
  {
   "cell_type": "code",
   "execution_count": 11,
   "id": "6791d6fb",
   "metadata": {},
   "outputs": [
    {
     "data": {
      "text/plain": [
       "tensor(0.1455, device='cuda:0')"
      ]
     },
     "execution_count": 11,
     "metadata": {},
     "output_type": "execute_result"
    }
   ],
   "source": [
    "model.load_state_dict(torch.load('./models/clip_ViT-L-14_openai_binary_nsfw_head.pth'))\n",
    "\n",
    "model.eval()\n",
    "with torch.no_grad():\n",
    "    y_p = model(X.cuda())\n",
    "cross_entropy(y, y_p)"
   ]
  },
  {
   "cell_type": "code",
   "execution_count": null,
   "id": "2a33b9ee",
   "metadata": {},
   "outputs": [],
   "source": []
  }
 ],
 "metadata": {
  "kernelspec": {
   "display_name": "Python 3 (ipykernel)",
   "language": "python",
   "name": "python3"
  },
  "language_info": {
   "codemirror_mode": {
    "name": "ipython",
    "version": 3
   },
   "file_extension": ".py",
   "mimetype": "text/x-python",
   "name": "python",
   "nbconvert_exporter": "python",
   "pygments_lexer": "ipython3",
   "version": "3.8.16"
  }
 },
 "nbformat": 4,
 "nbformat_minor": 5
}
